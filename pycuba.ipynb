{
 "cells": [
  {
   "cell_type": "code",
   "execution_count": 1,
   "metadata": {
    "collapsed": false
   },
   "outputs": [],
   "source": [
    "import pycuba\n",
    "import numpy as np\n",
    "import ctypes"
   ]
  },
  {
   "cell_type": "code",
   "execution_count": 2,
   "metadata": {
    "collapsed": false
   },
   "outputs": [
    {
     "name": "stdout",
     "output_type": "stream",
     "text": [
      "-------------------- Vegas test -------------------\n",
      "VEGAS RESULT:\tneval 10000\tfail 0\n",
      "VEGAS RESULT:\t0.66481073 +- 0.00049218\tp = 0.089\n",
      "\n",
      "-------------------- Suave test -------------------\n",
      "SUAVE RESULT:\tnregions 7\tneval 7000\tfail 0\n",
      "SUAVE RESULT:\t0.66452041 +- 0.00063193\tp = 0.217\n",
      "\n",
      "-------------------- Divonne test -------------------\n",
      "DIVONNE RESULT:\tnregions 14\tneval 3052\tfail 0\n",
      "DIVONNE RESULT:\t0.66461951 +- 0.00063503\tp = 0.000\n",
      "\n",
      "-------------------- Cuhre test -------------------\n",
      "CUHRE RESULT:\tnregions 2\tneval 381\tfail 0\n",
      "CUHRE RESULT:\t0.66466968 +- 0.00000000\tp = 0.000\n",
      "\n"
     ]
    }
   ],
   "source": [
    "pycuba.demo()"
   ]
  },
  {
   "cell_type": "code",
   "execution_count": 3,
   "metadata": {
    "collapsed": true
   },
   "outputs": [],
   "source": [
    "from types import FunctionType"
   ]
  },
  {
   "cell_type": "code",
   "execution_count": 51,
   "metadata": {
    "collapsed": false
   },
   "outputs": [],
   "source": [
    "def get_unitcube_func(func,x_min,x_max):\n",
    "    dim = len(x_min)\n",
    "    if dim != len(x_max):\n",
    "        raise Exception('The dimensions of x_min and x_max have to be the same!')\n",
    "    min_functions=[]\n",
    "    max_functions=[]\n",
    "    for i in range(dim):\n",
    "        if isinstance(x_min[i], FunctionType):\n",
    "            min_functions.append(i)\n",
    "        if isinstance(x_max[i], FunctionType):\n",
    "            max_functions.append(i)\n",
    "    x_min = np.array(x_min)\n",
    "    x_max = np.array(x_max)\n",
    "    if len(min_functions) == 0 and len(max_functions) == 0:\n",
    "        x_diff = x_max-x_min\n",
    "        jacobian = np.prod(x_diff)\n",
    "    else:\n",
    "        border_functions = True\n",
    "    print(x_max)\n",
    "    x_max = x_max\n",
    "    def new_func(x):\n",
    "        print(max_functions)\n",
    "        print(x_min)\n",
    "        x = np.array([x[i] for i in range(dim)])\n",
    "        if border_functions:\n",
    "            for i in min_functions:\n",
    "                x_min[i] = x_min[i](x)\n",
    "            for i in max_functions:\n",
    "                print(x_max)\n",
    "                x_max[i] = x_max[i](x)\n",
    "            x_min = np.array(x_min)\n",
    "            x_max = np.array(x_max)\n",
    "            x_diff = x_max-x_min\n",
    "            jacobian = np.prod(x_diff)\n",
    "        new_x = x_min+x_diff*x\n",
    "        return func(new_x)*jacobian\n",
    "    return new_func"
   ]
  },
  {
   "cell_type": "code",
   "execution_count": 99,
   "metadata": {
    "collapsed": true
   },
   "outputs": [],
   "source": [
    "def get_unitcube_func(func,x_min,x_max):\n",
    "    dim = len(x_min)\n",
    "    if dim != len(x_max):\n",
    "        raise Exception('The dimensions of x_min and x_max have to be the same!')\n",
    "    min_functions=[]\n",
    "    max_functions=[]\n",
    "    x_min = np.array(x_min)\n",
    "    x_max = np.array(x_max)\n",
    "    for i in range(dim):\n",
    "        if isinstance(x_min[i], FunctionType):\n",
    "            min_functions.append(i)\n",
    "        if isinstance(x_max[i], FunctionType):\n",
    "            max_functions.append(i)\n",
    "    def new_func(x):\n",
    "        print(x_min)\n",
    "        print(x_max)\n",
    "        x_diff = x_max-x_min\n",
    "        jacobian = np.prod(x_diff)\n",
    "        x = np.array([x[i] for i in range(dim)])\n",
    "        new_x = x_min+x_diff*x\n",
    "        return func(new_x)*jacobian\n",
    "    return new_func"
   ]
  },
  {
   "cell_type": "code",
   "execution_count": 100,
   "metadata": {
    "collapsed": true
   },
   "outputs": [],
   "source": [
    "def get_integrand(func,x_min,x_max):\n",
    "    dim = len(x_min)\n",
    "    if dim != len(x_max):\n",
    "        raise Exception('The dimensions of x_min and x_max have to be the same!')\n",
    "    new_func = get_unitcube_func(func,x_min,x_max)\n",
    "    def Integrand(ndim,xx,ncomp,ff,userdata):\n",
    "        ff[0] = new_func(xx)\n",
    "        return 0\n",
    "    return Integrand"
   ]
  },
  {
   "cell_type": "code",
   "execution_count": 101,
   "metadata": {
    "collapsed": true
   },
   "outputs": [],
   "source": [
    "def test_func(x):\n",
    "    return x[1]"
   ]
  },
  {
   "cell_type": "code",
   "execution_count": 102,
   "metadata": {
    "collapsed": false
   },
   "outputs": [],
   "source": [
    "def func(x_vec):\n",
    "        x = x_vec[0]\n",
    "        y = x_vec[1]\n",
    "        return x**2/(np.cos(x + y + 1) + 5)\n",
    "integrand = get_integrand(func,[1,2],[test_func,7])"
   ]
  },
  {
   "cell_type": "code",
   "execution_count": 103,
   "metadata": {
    "collapsed": true
   },
   "outputs": [],
   "source": [
    "a = 0\n",
    "ft = [a]"
   ]
  },
  {
   "cell_type": "code",
   "execution_count": 104,
   "metadata": {
    "collapsed": false
   },
   "outputs": [
    {
     "name": "stdout",
     "output_type": "stream",
     "text": [
      "[1 2]\n",
      "[<function test_func at 0x7fb6fea80bf8> 7]\n"
     ]
    },
    {
     "ename": "TypeError",
     "evalue": "unsupported operand type(s) for -: 'function' and 'int'",
     "output_type": "error",
     "traceback": [
      "\u001b[1;31m---------------------------------------------------------------------------\u001b[0m",
      "\u001b[1;31mTypeError\u001b[0m                                 Traceback (most recent call last)",
      "\u001b[1;32m<ipython-input-104-4c1e599a68d2>\u001b[0m in \u001b[0;36m<module>\u001b[1;34m()\u001b[0m\n\u001b[1;32m----> 1\u001b[1;33m \u001b[0mintegrand\u001b[0m\u001b[1;33m(\u001b[0m\u001b[1;36m2\u001b[0m\u001b[1;33m,\u001b[0m\u001b[1;33m[\u001b[0m\u001b[1;36m0.5\u001b[0m\u001b[1;33m,\u001b[0m\u001b[1;36m0.5\u001b[0m\u001b[1;33m]\u001b[0m\u001b[1;33m,\u001b[0m\u001b[1;36m1\u001b[0m\u001b[1;33m,\u001b[0m\u001b[0mft\u001b[0m\u001b[1;33m,\u001b[0m\u001b[1;32mNone\u001b[0m\u001b[1;33m)\u001b[0m\u001b[1;33m\u001b[0m\u001b[0m\n\u001b[0m",
      "\u001b[1;32m<ipython-input-100-88858f7abc3c>\u001b[0m in \u001b[0;36mIntegrand\u001b[1;34m(ndim, xx, ncomp, ff, userdata)\u001b[0m\n\u001b[0;32m      5\u001b[0m     \u001b[0mnew_func\u001b[0m \u001b[1;33m=\u001b[0m \u001b[0mget_unitcube_func\u001b[0m\u001b[1;33m(\u001b[0m\u001b[0mfunc\u001b[0m\u001b[1;33m,\u001b[0m\u001b[0mx_min\u001b[0m\u001b[1;33m,\u001b[0m\u001b[0mx_max\u001b[0m\u001b[1;33m)\u001b[0m\u001b[1;33m\u001b[0m\u001b[0m\n\u001b[0;32m      6\u001b[0m     \u001b[1;32mdef\u001b[0m \u001b[0mIntegrand\u001b[0m\u001b[1;33m(\u001b[0m\u001b[0mndim\u001b[0m\u001b[1;33m,\u001b[0m\u001b[0mxx\u001b[0m\u001b[1;33m,\u001b[0m\u001b[0mncomp\u001b[0m\u001b[1;33m,\u001b[0m\u001b[0mff\u001b[0m\u001b[1;33m,\u001b[0m\u001b[0muserdata\u001b[0m\u001b[1;33m)\u001b[0m\u001b[1;33m:\u001b[0m\u001b[1;33m\u001b[0m\u001b[0m\n\u001b[1;32m----> 7\u001b[1;33m         \u001b[0mff\u001b[0m\u001b[1;33m[\u001b[0m\u001b[1;36m0\u001b[0m\u001b[1;33m]\u001b[0m \u001b[1;33m=\u001b[0m \u001b[0mnew_func\u001b[0m\u001b[1;33m(\u001b[0m\u001b[0mxx\u001b[0m\u001b[1;33m)\u001b[0m\u001b[1;33m\u001b[0m\u001b[0m\n\u001b[0m\u001b[0;32m      8\u001b[0m         \u001b[1;32mreturn\u001b[0m \u001b[1;36m0\u001b[0m\u001b[1;33m\u001b[0m\u001b[0m\n\u001b[0;32m      9\u001b[0m     \u001b[1;32mreturn\u001b[0m \u001b[0mIntegrand\u001b[0m\u001b[1;33m\u001b[0m\u001b[0m\n",
      "\u001b[1;32m<ipython-input-99-9b1a98105216>\u001b[0m in \u001b[0;36mnew_func\u001b[1;34m(x)\u001b[0m\n\u001b[0;32m     15\u001b[0m         \u001b[0mprint\u001b[0m\u001b[1;33m(\u001b[0m\u001b[0mx_min\u001b[0m\u001b[1;33m)\u001b[0m\u001b[1;33m\u001b[0m\u001b[0m\n\u001b[0;32m     16\u001b[0m         \u001b[0mprint\u001b[0m\u001b[1;33m(\u001b[0m\u001b[0mx_max\u001b[0m\u001b[1;33m)\u001b[0m\u001b[1;33m\u001b[0m\u001b[0m\n\u001b[1;32m---> 17\u001b[1;33m         \u001b[0mx_diff\u001b[0m \u001b[1;33m=\u001b[0m \u001b[0mx_max\u001b[0m\u001b[1;33m-\u001b[0m\u001b[0mx_min\u001b[0m\u001b[1;33m\u001b[0m\u001b[0m\n\u001b[0m\u001b[0;32m     18\u001b[0m         \u001b[0mjacobian\u001b[0m \u001b[1;33m=\u001b[0m \u001b[0mnp\u001b[0m\u001b[1;33m.\u001b[0m\u001b[0mprod\u001b[0m\u001b[1;33m(\u001b[0m\u001b[0mx_diff\u001b[0m\u001b[1;33m)\u001b[0m\u001b[1;33m\u001b[0m\u001b[0m\n\u001b[0;32m     19\u001b[0m         \u001b[0mx\u001b[0m \u001b[1;33m=\u001b[0m \u001b[0mnp\u001b[0m\u001b[1;33m.\u001b[0m\u001b[0marray\u001b[0m\u001b[1;33m(\u001b[0m\u001b[1;33m[\u001b[0m\u001b[0mx\u001b[0m\u001b[1;33m[\u001b[0m\u001b[0mi\u001b[0m\u001b[1;33m]\u001b[0m \u001b[1;32mfor\u001b[0m \u001b[0mi\u001b[0m \u001b[1;32min\u001b[0m \u001b[0mrange\u001b[0m\u001b[1;33m(\u001b[0m\u001b[0mdim\u001b[0m\u001b[1;33m)\u001b[0m\u001b[1;33m]\u001b[0m\u001b[1;33m)\u001b[0m\u001b[1;33m\u001b[0m\u001b[0m\n",
      "\u001b[1;31mTypeError\u001b[0m: unsupported operand type(s) for -: 'function' and 'int'"
     ]
    }
   ],
   "source": [
    "integrand(2,[0.5,0.5],1,ft,None)"
   ]
  },
  {
   "cell_type": "code",
   "execution_count": null,
   "metadata": {
    "collapsed": true
   },
   "outputs": [],
   "source": []
  },
  {
   "cell_type": "code",
   "execution_count": null,
   "metadata": {
    "collapsed": true
   },
   "outputs": [],
   "source": []
  },
  {
   "cell_type": "code",
   "execution_count": null,
   "metadata": {
    "collapsed": true
   },
   "outputs": [],
   "source": []
  },
  {
   "cell_type": "code",
   "execution_count": null,
   "metadata": {
    "collapsed": true
   },
   "outputs": [],
   "source": []
  },
  {
   "cell_type": "code",
   "execution_count": 81,
   "metadata": {
    "collapsed": false
   },
   "outputs": [
    {
     "data": {
      "text/plain": [
       "{'comp': 0,\n",
       " 'fail': 0,\n",
       " 'neval': 2093,\n",
       " 'nregions': 14,\n",
       " 'results': [{'error': 0.03851450570501306,\n",
       "   'integral': 43.47138923529601,\n",
       "   'prob': 0.0}]}"
      ]
     },
     "execution_count": 81,
     "metadata": {},
     "output_type": "execute_result"
    }
   ],
   "source": [
    "NDIM = 2\n",
    "MINEVAL = 0\n",
    "MAXEVAL = 50000\n",
    "KEY1 = 47\n",
    "KEY2 = 1\n",
    "KEY3 = 1\n",
    "MAXPASS = 5\n",
    "BORDER = 0.\n",
    "MAXCHISQ = 10.\n",
    "MINDEVIATION = .25\n",
    "LDXGIVEN = NDIM\n",
    "pycuba.Divonne(integrand, NDIM,\n",
    "    mineval=MINEVAL, maxeval=MAXEVAL,\n",
    "    key1=KEY1, key2=KEY2, key3=KEY3, maxpass=MAXPASS,\n",
    "    border=BORDER, maxchisq=MAXCHISQ, mindeviation=MINDEVIATION,\n",
    "    ldxgiven=LDXGIVEN, verbose=2)"
   ]
  },
  {
   "cell_type": "code",
   "execution_count": 35,
   "metadata": {
    "collapsed": false
   },
   "outputs": [
    {
     "data": {
      "text/plain": [
       "{'comp': 0,\n",
       " 'fail': 0,\n",
       " 'neval': 455,\n",
       " 'nregions': 4,\n",
       " 'results': [{'error': 0.01858225577711949,\n",
       "   'integral': 43.471416865804294,\n",
       "   'prob': 1.0661364239356041e-09}]}"
      ]
     },
     "execution_count": 35,
     "metadata": {},
     "output_type": "execute_result"
    }
   ],
   "source": [
    "NDIM = 2\n",
    "KEY = 0\n",
    "pycuba.Cuhre(integrand, NDIM, key=KEY, verbose=2 | 4)"
   ]
  },
  {
   "cell_type": "code",
   "execution_count": 11,
   "metadata": {
    "collapsed": true
   },
   "outputs": [],
   "source": [
    "from ctypes import c_int, c_double, POINTER"
   ]
  },
  {
   "cell_type": "code",
   "execution_count": 19,
   "metadata": {
    "collapsed": false
   },
   "outputs": [],
   "source": [
    "test_pointer = POINTER(c_double)\n",
    "test_double = c_double(2)"
   ]
  },
  {
   "cell_type": "code",
   "execution_count": 20,
   "metadata": {
    "collapsed": false
   },
   "outputs": [
    {
     "data": {
      "text/plain": [
       "2.0"
      ]
     },
     "execution_count": 20,
     "metadata": {},
     "output_type": "execute_result"
    }
   ],
   "source": [
    "test_pointer(test_double).contents.value"
   ]
  },
  {
   "cell_type": "code",
   "execution_count": null,
   "metadata": {
    "collapsed": true
   },
   "outputs": [],
   "source": []
  }
 ],
 "metadata": {
  "kernelspec": {
   "display_name": "Python 3",
   "language": "python",
   "name": "python3"
  },
  "language_info": {
   "codemirror_mode": {
    "name": "ipython",
    "version": 3
   },
   "file_extension": ".py",
   "mimetype": "text/x-python",
   "name": "python",
   "nbconvert_exporter": "python",
   "pygments_lexer": "ipython3",
   "version": "3.4.3"
  }
 },
 "nbformat": 4,
 "nbformat_minor": 0
}
