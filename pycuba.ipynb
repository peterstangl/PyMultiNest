{
 "cells": [
  {
   "cell_type": "code",
   "execution_count": null,
   "metadata": {
    "collapsed": false
   },
   "outputs": [],
   "source": [
    "import pycuba\n",
    "import numpy as np"
   ]
  },
  {
   "cell_type": "code",
   "execution_count": null,
   "metadata": {
    "collapsed": false
   },
   "outputs": [],
   "source": [
    "pycuba.demo()"
   ]
  },
  {
   "cell_type": "code",
   "execution_count": null,
   "metadata": {
    "collapsed": true
   },
   "outputs": [],
   "source": [
    "import sys\n",
    "from types import FunctionType\n",
    "from copy import deepcopy\n",
    "\n",
    "def get_dim(x_min,x_max):\n",
    "    dim = len(x_min)\n",
    "    if dim != len(x_max):\n",
    "        raise Exception('The dimensions of x_min and x_max have to be the same!')\n",
    "    return dim\n",
    "\n",
    "def get_unitcube_func(func,x_min,x_max,dim=None):\n",
    "    if not dim:\n",
    "        dim = get_dim(x_min,x_max)\n",
    "    x_min = np.array(x_min)\n",
    "    x_max = np.array(x_max)\n",
    "    min_functions=[]\n",
    "    max_functions=[]\n",
    "    for i in range(dim):\n",
    "        if isinstance(x_min[i], FunctionType):\n",
    "            min_functions.append(i)\n",
    "        if isinstance(x_max[i], FunctionType):\n",
    "            max_functions.append(i)\n",
    "    def new_func(y):\n",
    "        y = np.array([y[i] for i in range(dim)])\n",
    "        if not min_functions and not max_functions:\n",
    "            x_diff = x_max-x_min\n",
    "            x = x_min+x_diff*y\n",
    "        else:\n",
    "            x_min_val = deepcopy(x_min)\n",
    "            x_max_val = deepcopy(x_max)\n",
    "            x_diff = np.full(dim, None)\n",
    "            x = np.full(dim, None)\n",
    "            for i in reversed(range(dim)): \n",
    "                if i in min_functions:\n",
    "                    x_min_val[i] = x_min[i](x)\n",
    "                if i in max_functions:\n",
    "                    x_max_val[i] = x_max[i](x)\n",
    "                x_diff[i] = x_max_val[i]-x_min_val[i]\n",
    "                x[i] = x_min_val[i]+x_diff[i]*y[i]\n",
    "            if np.isnan(x).any():\n",
    "                sys.exit('There is an error in the functions specifying the limits of the integral!')\n",
    "        jacobian = np.prod(x_diff)\n",
    "        return func(x)*jacobian\n",
    "    return new_func\n",
    "\n",
    "def get_integrand(func,x_min,x_max,dim=None):\n",
    "    if not dim:\n",
    "        dim = get_dim(x_min,x_max)\n",
    "    new_func = get_unitcube_func(func,x_min,x_max,dim=dim)\n",
    "    def integrand(ndim,yy,ncomp,ff,userdata):\n",
    "        ff[0] = new_func(yy)\n",
    "        return 0\n",
    "    return integrand"
   ]
  },
  {
   "cell_type": "code",
   "execution_count": null,
   "metadata": {
    "collapsed": true
   },
   "outputs": [],
   "source": []
  },
  {
   "cell_type": "code",
   "execution_count": null,
   "metadata": {
    "collapsed": true
   },
   "outputs": [],
   "source": [
    "def limit_func(x):\n",
    "    return 3.*x[1]+3."
   ]
  },
  {
   "cell_type": "code",
   "execution_count": null,
   "metadata": {
    "collapsed": false
   },
   "outputs": [],
   "source": [
    "def func(x_vec):\n",
    "        x = x_vec[0]\n",
    "        y = x_vec[1]\n",
    "        return x**2/(np.cos(x + y + 1) + 5)\n",
    "    \n",
    "integrand = get_integrand(func,[1,2],[limit_func,7])"
   ]
  },
  {
   "cell_type": "code",
   "execution_count": null,
   "metadata": {
    "collapsed": true
   },
   "outputs": [],
   "source": [
    "def get_arguments_generic(function,x_min,x_max,\n",
    "                         PrecisionGoal,AccuracyGoal,MinPoints,MaxPoints,\n",
    "                         Verbose,Final,PseudoRandom,PseudoRandomSeed,StateFile,RetainStateFile):\n",
    "    \n",
    "    dim = get_dim(x_min,x_max)\n",
    "    integrand = get_integrand(function,x_min,x_max,dim=dim)\n",
    "    epsrel=10**-PrecisionGoal\n",
    "    epsabs=10**-AccuracyGoal\n",
    "    mineval=MinPoints\n",
    "    maxeval=MaxPoints\n",
    "    \n",
    "    if Verbose not in [0,1,2,3]:\n",
    "        raise Exception('Option \"Verbose\" has to be an Integer between 0 and 3.')\n",
    "    flags = Verbose\n",
    "    if Final != 'All':\n",
    "        if Final == 'Last':\n",
    "            flags = flags|2**2\n",
    "        else:\n",
    "            raise Exception('Option \"Final\" takes values \"All\" oder \"Last\".')\n",
    "    # Bit 3 vegas and suave only\n",
    "    if RetainStateFile is not False:\n",
    "        if RetainStateFile is True:\n",
    "            flags = flags|2**4\n",
    "        else:\n",
    "            raise Exception('Option \"RetainStateFile\" takes values \"True\" oder \"False\".')\n",
    "    # Bit 5 vegas only\n",
    "    if PseudoRandomSeed == 0:\n",
    "        if PseudoRandom is not False:\n",
    "            raise Exception('Option \"PseudoRandom\" has to be set to \"False\" if \"PseudoRandomSeed\" is set to \"0\".')\n",
    "    elif (PseudoRandomSeed > 0 \n",
    "    and isinstance(PseudoRandomSeed, int)\n",
    "    and PseudoRandom >= 0\n",
    "    and isinstance(PseudoRandom, int)):\n",
    "        if PseudoRandom is True:\n",
    "            PseudoRandom = 0\n",
    "        elif PseudoRandom is False:\n",
    "            PseudoRandomSeed = 0\n",
    "        flags = flags|(2**8)*PseudoRandom\n",
    "    else:\n",
    "        raise Exception('Option \"PseudoRandom\" has to be set to \"True\", \"False\" or to a positive integer. \"PseudoRandomSeed\" has to be set to a positive integer.')\n",
    "    seed = PseudoRandomSeed\n",
    "    statefile = StateFile.encode('utf-8')\n",
    "\n",
    "    \n",
    "    return (integrand,dim,epsrel,epsabs,mineval,maxeval,flags,seed,statefile)"
   ]
  },
  {
   "cell_type": "code",
   "execution_count": null,
   "metadata": {
    "collapsed": false
   },
   "outputs": [],
   "source": [
    "def Divonne(function,x_min,x_max,\n",
    "            PrecisionGoal=3,AccuracyGoal=12,MinPoints=0,MaxPoints=50000,\n",
    "            Verbose=1,Final='All',PseudoRandom=False,\n",
    "            PseudoRandomSeed=0,StateFile='',RetainStateFile=False,\n",
    "            Key1=47,Key2=1,Key3=1,MaxPass=5,Border=0.,MaxChisq=10.,MinDeviation=.25):\n",
    "    (integrand,dim,epsrel,epsabs,mineval,maxeval,flags,seed,statefile\n",
    "    ) = get_arguments_generic(function,x_min,x_max,\n",
    "                         PrecisionGoal,AccuracyGoal,MinPoints,MaxPoints,\n",
    "                         Verbose,Final,PseudoRandom,PseudoRandomSeed,StateFile,RetainStateFile)\n",
    "    \n",
    "    return_dict = pycuba.Divonne(integrand, dim,\n",
    "        epsrel=epsrel, epsabs=epsabs,\n",
    "        mineval=mineval, maxeval=maxeval,\n",
    "        key1=Key1, key2=Key2, key3=Key3, maxpass=MaxPass,\n",
    "        border=Border, maxchisq=MaxChisq, mindeviation=MinDeviation, verbose=flags,\n",
    "        statefile = statefile, seed=seed)\n",
    "    \n",
    "    return return_dict"
   ]
  },
  {
   "cell_type": "code",
   "execution_count": null,
   "metadata": {
    "collapsed": false
   },
   "outputs": [],
   "source": [
    "Divonne(func,[1,2],[limit_func,7],PrecisionGoal=6,MaxPoints=150000)"
   ]
  },
  {
   "cell_type": "code",
   "execution_count": null,
   "metadata": {
    "collapsed": false
   },
   "outputs": [],
   "source": [
    "Divonne(func,[1,2],[limit_func,7],PrecisionGoal=5,MaxPoints=150000,StateFile='teststate',RetainStateFile=False)"
   ]
  },
  {
   "cell_type": "code",
   "execution_count": null,
   "metadata": {
    "collapsed": false
   },
   "outputs": [],
   "source": [
    "NDIM = 2\n",
    "MINEVAL = 0\n",
    "MAXEVAL = 50000\n",
    "KEY1 = 47\n",
    "KEY2 = 1\n",
    "KEY3 = 1\n",
    "MAXPASS = 5\n",
    "BORDER = 0.\n",
    "MAXCHISQ = 10.\n",
    "MINDEVIATION = .25\n",
    "LDXGIVEN = NDIM\n",
    "pycuba.Divonne(integrand, NDIM,\n",
    "    mineval=MINEVAL, maxeval=MAXEVAL,\n",
    "    key1=KEY1, key2=KEY2, key3=KEY3, maxpass=MAXPASS,\n",
    "    border=BORDER, maxchisq=MAXCHISQ, mindeviation=MINDEVIATION,\n",
    "    ldxgiven=LDXGIVEN, verbose=2)"
   ]
  },
  {
   "cell_type": "code",
   "execution_count": null,
   "metadata": {
    "collapsed": false
   },
   "outputs": [],
   "source": [
    "NDIM = 2\n",
    "KEY = 0\n",
    "pycuba.Cuhre(integrand, NDIM, key=KEY, verbose=2 | 4)"
   ]
  }
 ],
 "metadata": {
  "kernelspec": {
   "display_name": "Python 3",
   "language": "python",
   "name": "python3"
  },
  "language_info": {
   "codemirror_mode": {
    "name": "ipython",
    "version": 3
   },
   "file_extension": ".py",
   "mimetype": "text/x-python",
   "name": "python",
   "nbconvert_exporter": "python",
   "pygments_lexer": "ipython3",
   "version": "3.4.3"
  }
 },
 "nbformat": 4,
 "nbformat_minor": 0
}
